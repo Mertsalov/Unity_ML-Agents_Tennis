{
 "cells": [
  {
   "cell_type": "markdown",
   "metadata": {},
   "source": [
    "# Collaboration and Competition\n",
    "\n",
    "---\n",
    "\n",
    "In this notebook, you will learn how to use the Unity ML-Agents environment for the third project of the [Deep Reinforcement Learning Nanodegree](https://www.udacity.com/course/deep-reinforcement-learning-nanodegree--nd893) program.\n",
    "\n",
    "## Start the Environment\n",
    "\n",
    "We begin by importing the necessary packages.  If the code cell below returns an error, please revisit the project instructions to double-check that you have installed [Unity ML-Agents](https://github.com/Unity-Technologies/ml-agents/blob/master/docs/Installation.md) and [NumPy](http://www.numpy.org/)."
   ]
  },
  {
   "cell_type": "code",
   "execution_count": 1,
   "metadata": {},
   "outputs": [],
   "source": [
    "from unityagents import UnityEnvironment\n",
    "import numpy as np\n",
    "import copy\n",
    "import random\n",
    "from collections import deque, namedtuple\n",
    "from tqdm import trange\n",
    "\n",
    "import torch\n",
    "import torch.nn as nn\n",
    "import torch.optim as optim\n",
    "import torch.nn.functional as F"
   ]
  },
  {
   "cell_type": "code",
   "execution_count": 2,
   "metadata": {},
   "outputs": [
    {
     "name": "stdout",
     "output_type": "stream",
     "text": [
      "Python version : 3.6.3\n",
      "PyTorch version: 1.8.1\n"
     ]
    }
   ],
   "source": [
    "from platform import python_version\n",
    "print('Python version :', python_version())\n",
    "print('PyTorch version:', torch.__version__)"
   ]
  },
  {
   "cell_type": "markdown",
   "metadata": {},
   "source": [
    "Next, we will start the environment!  **_Before running the code cell below_**, change the `file_name` parameter to match the location of the Unity environment that you downloaded.\n",
    "\n",
    "- **Mac**: `\"path/to/Tennis.app\"`\n",
    "- **Windows** (x86): `\"path/to/Tennis_Windows_x86/Tennis.exe\"`\n",
    "- **Windows** (x86_64): `\"path/to/Tennis_Windows_x86_64/Tennis.exe\"`\n",
    "- **Linux** (x86): `\"path/to/Tennis_Linux/Tennis.x86\"`\n",
    "- **Linux** (x86_64): `\"path/to/Tennis_Linux/Tennis.x86_64\"`\n",
    "- **Linux** (x86, headless): `\"path/to/Tennis_Linux_NoVis/Tennis.x86\"`\n",
    "- **Linux** (x86_64, headless): `\"path/to/Tennis_Linux_NoVis/Tennis.x86_64\"`\n",
    "\n",
    "For instance, if you are using a Mac, then you downloaded `Tennis.app`.  If this file is in the same folder as the notebook, then the line below should appear as follows:\n",
    "```\n",
    "env = UnityEnvironment(file_name=\"Tennis.app\")\n",
    "```"
   ]
  },
  {
   "cell_type": "code",
   "execution_count": 3,
   "metadata": {},
   "outputs": [
    {
     "name": "stderr",
     "output_type": "stream",
     "text": [
      "INFO:unityagents:\n",
      "'Academy' started successfully!\n",
      "Unity Academy name: Academy\n",
      "        Number of Brains: 1\n",
      "        Number of External Brains : 1\n",
      "        Lesson number : 0\n",
      "        Reset Parameters :\n",
      "\t\t\n",
      "Unity brain name: TennisBrain\n",
      "        Number of Visual Observations (per agent): 0\n",
      "        Vector Observation space type: continuous\n",
      "        Vector Observation space size (per agent): 8\n",
      "        Number of stacked Vector Observation: 3\n",
      "        Vector Action space type: continuous\n",
      "        Vector Action space size (per agent): 2\n",
      "        Vector Action descriptions: , \n"
     ]
    }
   ],
   "source": [
    "env = UnityEnvironment(file_name=\"Tennis.app\")"
   ]
  },
  {
   "cell_type": "markdown",
   "metadata": {},
   "source": [
    "Environments contain **_brains_** which are responsible for deciding the actions of their associated agents. Here we check for the first brain available, and set it as the default brain we will be controlling from Python."
   ]
  },
  {
   "cell_type": "code",
   "execution_count": 4,
   "metadata": {},
   "outputs": [],
   "source": [
    "# get the default brain\n",
    "brain_name = env.brain_names[0]\n",
    "brain = env.brains[brain_name]"
   ]
  },
  {
   "cell_type": "markdown",
   "metadata": {},
   "source": [
    "## Examine the State and Action Spaces\n",
    "\n",
    "In this environment, two agents control rackets to bounce a ball over a net. If an agent hits the ball over the net, it receives a reward of +0.1.  If an agent lets a ball hit the ground or hits the ball out of bounds, it receives a reward of -0.01.  Thus, the goal of each agent is to keep the ball in play.\n",
    "\n",
    "The observation space consists of 8 variables corresponding to the position and velocity of the ball and racket. Two continuous actions are available, corresponding to movement toward (or away from) the net, and jumping. \n",
    "\n",
    "Run the code cell below to print some information about the environment."
   ]
  },
  {
   "cell_type": "code",
   "execution_count": 5,
   "metadata": {},
   "outputs": [
    {
     "name": "stdout",
     "output_type": "stream",
     "text": [
      "Number of agents: 2\n",
      "Size of each action: 2\n",
      "There are 2 agents. Each observes a state with length: 24\n",
      "The state for the first agent looks like: [ 0.          0.          0.          0.          0.          0.\n",
      "  0.          0.          0.          0.          0.          0.\n",
      "  0.          0.          0.          0.         -6.65278625 -1.5\n",
      " -0.          0.          6.83172083  6.         -0.          0.        ]\n"
     ]
    }
   ],
   "source": [
    "# reset the environment\n",
    "env_info = env.reset(train_mode=True)[brain_name]\n",
    "\n",
    "# number of agents \n",
    "num_agents = len(env_info.agents)\n",
    "print('Number of agents:', num_agents)\n",
    "\n",
    "# size of each action\n",
    "action_size = brain.vector_action_space_size\n",
    "print('Size of each action:', action_size)\n",
    "\n",
    "# examine the state space \n",
    "states = env_info.vector_observations\n",
    "state_size = states.shape[1]\n",
    "print('There are {} agents. Each observes a state with length: {}'\\\n",
    "      .format(states.shape[0], state_size))\n",
    "print('The state for the first agent looks like:', states[0])"
   ]
  },
  {
   "cell_type": "markdown",
   "metadata": {},
   "source": [
    "## Take Random Actions in the Environment\n",
    "\n",
    "In the next code cell, you will learn how to use the Python API to control the agents and receive feedback from the environment.\n",
    "\n",
    "Once this cell is executed, you will watch the agents' performance, if they select actions at random with each time step.  A window should pop up that allows you to observe the agents.\n",
    "\n",
    "Of course, as part of the project, you'll have to change the code so that the agents are able to use their experiences to gradually choose better actions when interacting with the environment!"
   ]
  },
  {
   "cell_type": "code",
   "execution_count": 6,
   "metadata": {},
   "outputs": [
    {
     "name": "stdout",
     "output_type": "stream",
     "text": [
      "Score (max over agents) from episode 1: 0.10000000149011612\n",
      "Score (max over agents) from episode 2: 0.0\n",
      "Score (max over agents) from episode 3: 0.0\n",
      "Score (max over agents) from episode 4: 0.0\n",
      "Score (max over agents) from episode 5: 0.0\n"
     ]
    }
   ],
   "source": [
    "# play game for 5 episodes\n",
    "for i in range(1, 6):\n",
    "    # reset the environment\n",
    "    env_info = env.reset(train_mode=False)[brain_name]\n",
    "    # get the current state (for each agent)\n",
    "    states = env_info.vector_observations\n",
    "    # initialize the score (for each agent)\n",
    "    scores = np.zeros(num_agents)\n",
    "    while True:\n",
    "        # select an action (for each agent)\n",
    "        actions = np.random.randn(num_agents, action_size)\n",
    "        # all actions between -1 and 1\n",
    "        actions = np.clip(actions, -1, 1)\n",
    "        # send all actions to tne environment\n",
    "        env_info = env.step(actions)[brain_name]\n",
    "        # get next state (for each agent)\n",
    "        next_states = env_info.vector_observations\n",
    "        # get reward (for each agent)\n",
    "        rewards = env_info.rewards\n",
    "        # see if episode finished\n",
    "        dones = env_info.local_done\n",
    "        # update the score (for each agent)\n",
    "        scores += env_info.rewards\n",
    "        # roll over states to next time step\n",
    "        states = next_states\n",
    "        # exit loop if episode finished\n",
    "        if np.any(dones):\n",
    "            break\n",
    "    print('Score (max over agents) from episode {}: {}'\\\n",
    "          .format(i, np.max(scores)))"
   ]
  },
  {
   "cell_type": "markdown",
   "metadata": {},
   "source": [
    "## Define a neural network architecture\n",
    "\n",
    "Now it's your turn to train your own agent to solve the environment!  When training the environment, set `train_mode=True`, so that the line for resetting the environment looks like the following:\n",
    "```python\n",
    "env_info = env.reset(train_mode=True)[brain_name]\n",
    "```\n",
    "\n",
    "### Actor (Policy) Model\n",
    "Maps states to action values. The actor network has the following structure:\n",
    "\n",
    "* batch normalization for the inputs\n",
    "* fully connected layer (state size x 128)\n",
    "* RELU-activation\n",
    "* fully connected layer (128 x 64)\n",
    "* RELU-activation\n",
    "* fully connected layer (64 x action size)"
   ]
  },
  {
   "cell_type": "code",
   "execution_count": 7,
   "metadata": {},
   "outputs": [],
   "source": [
    "def hidden_init(layer):\n",
    "    '''Hidden layers initialization'''\n",
    "    fan_in = layer.weight.data.size()[0]\n",
    "    lim = 1. / np.sqrt(fan_in)\n",
    "    return (-lim, lim)"
   ]
  },
  {
   "cell_type": "code",
   "execution_count": 8,
   "metadata": {},
   "outputs": [],
   "source": [
    "class Actor(nn.Module):\n",
    "    \n",
    "    def __init__(self, state_size, action_size, seed,\n",
    "                 fc1_units = 128, fc2_units = 64):\n",
    "        '''\n",
    "        Neural network parameters:\n",
    "            state_size (int) : # parameters characterizing the environment state\n",
    "            action_size (int): # possible actions\n",
    "            seed (int)       : random seed\n",
    "            fc1_units (int)  : # nodes in the first hidden layer\n",
    "            fc2_units (int)  : # nodes in the second hidden layer\n",
    "        '''\n",
    "        super(Actor, self).__init__()\n",
    "        self.seed = torch.manual_seed(seed)\n",
    "        self.fc1  = nn.Linear(state_size, fc1_units)\n",
    "        self.fc2  = nn.Linear(fc1_units,  fc2_units)\n",
    "        self.fc3  = nn.Linear(fc2_units,  action_size)\n",
    "\n",
    "        self.bn1 = nn.BatchNorm1d(state_size)\n",
    "        \n",
    "        self.reset_parameters()\n",
    "    \n",
    "    def reset_parameters(self):\n",
    "        self.fc1.weight.data.uniform_(*hidden_init(self.fc1))\n",
    "        self.fc2.weight.data.uniform_(*hidden_init(self.fc2))\n",
    "        self.fc3.weight.data.uniform_(-3e-3, 3e-3)\n",
    "\n",
    "    def forward(self, state):\n",
    "        x = self.bn1(state)\n",
    "        x = F.relu(self.fc1(x))\n",
    "        x = F.relu(self.fc2(x))\n",
    "        return torch.tanh(self.fc3(x))"
   ]
  },
  {
   "cell_type": "markdown",
   "metadata": {},
   "source": [
    "### Critic (Value) Model\n",
    "Maps (state, action) pairs to Q-values. The critic network has the following structure:\n",
    "* batch normalization for the inputs\n",
    "* fully connected layer (state size x 128)\n",
    "* RELU-activation\n",
    "* concatenate the action\n",
    "* fully connected layer (128 + action size x 64)\n",
    "* RELU-activation\n",
    "* fully connected layer (64 x 1)"
   ]
  },
  {
   "cell_type": "code",
   "execution_count": 9,
   "metadata": {},
   "outputs": [],
   "source": [
    "class Critic(nn.Module):\n",
    "    def __init__(self, state_size, action_size, seed, \n",
    "                 fcs1_units = 128, fc2_units = 64):\n",
    "        '''\n",
    "        Neural network parameters:\n",
    "            state_size (int) : # parameters characterizing the environment state\n",
    "            action_size (int): # possible actions\n",
    "            seed (int)       : random seed\n",
    "            fc1_units (int)  : # nodes in the first hidden layer\n",
    "            fc2_units (int)  : # nodes in the second hidden layer\n",
    "        '''\n",
    "        super(Critic, self).__init__()\n",
    "        self.seed = torch.manual_seed(seed)\n",
    "        self.fcs1 = nn.Linear(state_size, fcs1_units)\n",
    "        self.fc2  = nn.Linear(fcs1_units+action_size, fc2_units)\n",
    "        self.fc3 = nn.Linear(fc2_units, 1)\n",
    "        self.bn1 = nn.BatchNorm1d(state_size)\n",
    "        self.reset_parameters()\n",
    "\n",
    "    def reset_parameters(self):\n",
    "        self.fcs1.weight.data.uniform_(*hidden_init(self.fcs1))\n",
    "        self.fc2.weight.data.uniform_(*hidden_init(self.fc2))\n",
    "        self.fc3.weight.data.uniform_(-3e-3, 3e-3)\n",
    "\n",
    "    def forward(self, state, action):\n",
    "        x  = self.bn1(state)\n",
    "        xs = F.relu(self.fcs1(x))\n",
    "        x  = torch.cat((xs, action), dim=1)\n",
    "        x  = F.relu(self.fc2(x))\n",
    "        return self.fc3(x)  "
   ]
  },
  {
   "cell_type": "markdown",
   "metadata": {},
   "source": [
    "## Define the Agent\n",
    "### Fixed-size buffer to store experience tuples"
   ]
  },
  {
   "cell_type": "code",
   "execution_count": 10,
   "metadata": {},
   "outputs": [
    {
     "data": {
      "text/plain": [
       "device(type='cpu')"
      ]
     },
     "metadata": {},
     "output_type": "display_data"
    }
   ],
   "source": [
    "device = torch.device(\"cuda:0\" if torch.cuda.is_available() else \"cpu\")\n",
    "display(device)"
   ]
  },
  {
   "cell_type": "code",
   "execution_count": 11,
   "metadata": {},
   "outputs": [],
   "source": [
    "class ReplayBuffer:\n",
    "    '''Fixed-size buffer to store experience tuples'''\n",
    "\n",
    "    def __init__(self, action_size, buffer_size, batch_size, seed):\n",
    "        '''Initialize a ReplayBuffer object\n",
    "        Params\n",
    "        ======\n",
    "            buffer_size (int): maximum size of buffer\n",
    "            batch_size (int) : size of each training batch\n",
    "        '''\n",
    "        self.action_size = action_size\n",
    "        self.memory = deque(maxlen=buffer_size)  # internal memory (deque)\n",
    "        self.batch_size = batch_size\n",
    "        self.experience = namedtuple(\"Experience\",\n",
    "                                     field_names=[\"state\", \"action\", \"reward\",\n",
    "                                                  \"next_state\", \"done\"])\n",
    "        self.seed = random.seed(seed)\n",
    "    \n",
    "    def add(self, state, action, reward, next_state, done):\n",
    "        '''Add a new experience to memory'''\n",
    "        e = self.experience(state, action, reward, next_state, done)\n",
    "        self.memory.append(e)\n",
    "    \n",
    "    def sample(self):\n",
    "        '''Randomly sample a batch of experiences from memory'''\n",
    "        experiences = random.sample(self.memory, k=self.batch_size)\n",
    "\n",
    "        states = torch.from_numpy(\n",
    "            np.vstack([e.state for e in experiences if e is not None]))\\\n",
    "            .float().to(device)\n",
    "        actions = torch.from_numpy(\n",
    "            np.vstack([e.action for e in experiences if e is not None]))\\\n",
    "            .float().to(device)\n",
    "        rewards = torch.from_numpy(\n",
    "            np.vstack([e.reward for e in experiences if e is not None]))\\\n",
    "            .float().to(device)\n",
    "        next_states = torch.from_numpy(\n",
    "            np.vstack([e.next_state for e in experiences if e is not None]))\\\n",
    "            .float().to(device)\n",
    "        dones = torch.from_numpy(\n",
    "            np.vstack([e.done for e in experiences if e is not None])\\\n",
    "            .astype(np.uint8)).float().to(device)\n",
    "\n",
    "        return (states, actions, rewards, next_states, dones)\n",
    "\n",
    "    def __len__(self):\n",
    "        '''Return the current size of internal memory'''\n",
    "        return len(self.memory)"
   ]
  },
  {
   "cell_type": "markdown",
   "metadata": {},
   "source": [
    "### Algorithm\n",
    "\n",
    "The algorithm implementation was adapted from the course repository:\n",
    "\n",
    "https://github.com/udacity/deep-reinforcement-learning/tree/master/ddpg-pendulum\n",
    "\n",
    "Agent parameters:\n",
    "```\n",
    "state_size  : environmen state size\n",
    "action_size : action size\n",
    "num_agents  : # learning agents\n",
    "andom_seed  : random seed number (optional)\n",
    "batch_size  : minibatch size for neural network training\n",
    "lr_actor    : actor neural network learning rate\n",
    "lr_critic   : critic neural network learning rate\n",
    "noise_theta : parameter theta for Ornstein-Uhlenbeck noise process\n",
    "noise_sigma : parameter sigma for Ornstein-Uhlenbeck noise process\n",
    "actor_fc1   : # nodes in first hidden layer for actor\n",
    "actor_fc2   : # nodes in second hidden layer for actor\n",
    "critic_fc1  : # nodes in first hidden ayer for critic\n",
    "critic_fc2  : # nodes in second hidden layer for critic\n",
    "update_every: # time steps between each updating neural networks \n",
    "num_updates : # times to update the networks at every update_every interval\n",
    "buffer_size : buffer size for experience replay\n",
    "```"
   ]
  },
  {
   "cell_type": "code",
   "execution_count": 12,
   "metadata": {},
   "outputs": [],
   "source": [
    "WEIGHT_DECAY = 0 # L2 weight decay\n",
    "class Agent():\n",
    "    '''Interacts with and learns from the environment'''\n",
    "    \n",
    "    def __init__(self, state_size, action_size, num_agents, random_seed = 0,\n",
    "                 batch_size = 128, lr_actor = 1e-4, lr_critic = 1e-3,\n",
    "                 noise_theta = 0.15, noise_sigma = 0.2,\n",
    "                 actor_fc1 = 128, actor_fc2 = 128,\n",
    "                 critic_fc1 = 128, critic_fc2 = 128,\n",
    "                 update_every = 1, num_updates = 1, buffer_size = int(2e6)):\n",
    "        \n",
    "        '''\n",
    "            state_size (int) : state size\n",
    "            action_size (int): action size\n",
    "            num_agents (int) : number of agents\n",
    "            random_seed (int): random seed\n",
    "            batch_size (int) : minibatch size\n",
    "            lr_actor (float) : the actor network learning rate\n",
    "            lr_critic (float): the critic network learning rate\n",
    "            noise_theta (float): theta for Ornstein-Uhlenbeck noise process\n",
    "            noise_sigma (float): simga for Ornstein-Uhlenbeck noise process\n",
    "            actor_fc1  = 128   : # nodes in first hidden layer for actor\n",
    "            actor_fc2  = 128   : # nodes in second hidden layer for actor\n",
    "            critic_fc1 = 128   : # nodes in first hidden ayer for critic\n",
    "            critic_fc2 = 128   : # nodes in second hidden layer for critic\n",
    "            update_every = 1   : # time steps between each\n",
    "                                 updating neural networks \n",
    "            num_updates = 1\n",
    "            buffer_size = int(2e6): buffer size for experience replay\n",
    "        '''\n",
    "        self.state_size = state_size\n",
    "        self.action_size = action_size\n",
    "        self.num_agents = num_agents\n",
    "        self.seed = random.seed(random_seed)\n",
    "        self.batch_size = batch_size\n",
    "        self.update_every = update_every\n",
    "        self.num_updates = num_updates\n",
    "        self.buffer_learn_size = min(batch_size * 10, buffer_size)\n",
    "\n",
    "        # actor Network (Target Network)\n",
    "        self.actor_local  = Actor(state_size, action_size, random_seed,\n",
    "                                  actor_fc1, actor_fc2).to(device)\n",
    "        self.actor_target = Actor(state_size, action_size, random_seed,\n",
    "                                  actor_fc1, actor_fc2).to(device)\n",
    "        self.actor_optimizer = optim.Adam(self.actor_local.parameters(),\n",
    "                                          lr=lr_actor)\n",
    "\n",
    "        # critic Network (Target Network)\n",
    "        self.critic_local  = Critic(state_size, action_size, random_seed, \n",
    "                                    critic_fc1, critic_fc2).to(device)\n",
    "        self.critic_target = Critic(state_size, action_size, random_seed, \n",
    "                                    critic_fc1, critic_fc2).to(device)\n",
    "        self.critic_optimizer = optim.Adam(self.critic_local.parameters(),\n",
    "                                           lr=lr_critic, \n",
    "                                           weight_decay=WEIGHT_DECAY)\n",
    "            \n",
    "        # noise process\n",
    "        self.noise = OUNoise((num_agents, action_size), random_seed, \n",
    "                             theta=noise_theta, sigma=noise_sigma)\n",
    "\n",
    "        # replay memory\n",
    "        self.memory = ReplayBuffer(action_size, buffer_size, \n",
    "                                   self.batch_size, random_seed)\n",
    "\n",
    "        # initialize the time step counter\n",
    "        # for updating each UPDATE_EVERY number of steps\n",
    "        self.t_step = 0\n",
    "    \n",
    "    def step(self, states, actions, rewards, next_states, \n",
    "             dones, gamma = 0.96, tau = 0.001):\n",
    "        '''Save experience in replay memory, \n",
    "        and use random sample from buffer to learn'''\n",
    "        \n",
    "        # Save experience / reward\n",
    "        for state, action, reward, next_state, done in zip(states, actions, \n",
    "                                                           rewards, next_states, \n",
    "                                                           dones):\n",
    "            self.memory.add(state, action, reward, next_state, done)\n",
    "\n",
    "        # Learn every update_every time steps.\n",
    "        self.t_step = (self.t_step + 1) % self.update_every\n",
    "        if self.t_step == 0:\n",
    "            # If enough samples are available in memory,\n",
    "            # get a random subset from the\n",
    "            # saved experiences (weighted if prior_replay = True) and learn\n",
    "            if len(self.memory) > self.buffer_learn_size:\n",
    "                for _ in range(self.num_updates):\n",
    "                    experiences = self.memory.sample()      \n",
    "                    self.learn(experiences, gamma, tau)\n",
    "\n",
    "    def act(self, state, add_noise=True, noise_scale=1.0):\n",
    "        '''Returns actions for given state as per current policy'''\n",
    "        state = torch.from_numpy(state).float().to(device)\n",
    "        self.actor_local.eval()\n",
    "        with torch.no_grad():\n",
    "            action = self.actor_local(state).cpu().data.numpy()\n",
    "        self.actor_local.train()\n",
    "        if add_noise:\n",
    "            action += (noise_scale * self.noise.sample())\n",
    "        return np.clip(action, -1, 1)\n",
    "\n",
    "    def reset(self):\n",
    "        self.noise.reset()\n",
    "\n",
    "    def learn(self, experiences, gamma, tau):\n",
    "        '''\n",
    "        Update policy and value parameters using \n",
    "        given batch of experience tuples.\n",
    "        Q_targets = r + gamma * critic_target(next_state, \n",
    "                                              actor_target(next_state))\n",
    "        where:\n",
    "            actor_target(state) -> action\n",
    "            critic_target(state, action) -> Q-value\n",
    "        Params\n",
    "        ======\n",
    "            experiences (Tuple[torch.Tensor]):\n",
    "            tuple of (s, a, r, s', done) tuples \n",
    "            gamma (float): discount factor\n",
    "        '''\n",
    "        states, actions, rewards, next_states, dones = experiences\n",
    "\n",
    "        # ************************* CRITIC UPDATE ************************\n",
    "        # Get predicted next-state actions and Q values from target models\n",
    "        actions_next = self.actor_target(next_states)\n",
    "        Q_targets_next = self.critic_target(next_states, actions_next)\n",
    "        # Compute Q targets for current states (y_i)\n",
    "        Q_targets = rewards + (gamma * Q_targets_next * (1 - dones))\n",
    "        # Compute critic loss\n",
    "        Q_expected = self.critic_local(states, actions)\n",
    "        critic_loss = F.mse_loss(Q_expected, Q_targets)\n",
    "        \n",
    "        # Minimize the loss\n",
    "        self.critic_optimizer.zero_grad()\n",
    "        critic_loss.backward()\n",
    "        \n",
    "        # Gradient clipping\n",
    "        torch.nn.utils.clip_grad_norm_(self.critic_local.parameters(), 1)\n",
    "        \n",
    "        self.critic_optimizer.step()\n",
    "\n",
    "        # ************************* ACTOR UPDATE *************************\n",
    "        # Compute actor loss\n",
    "        actions_pred = self.actor_local(states)\n",
    "        actor_loss = -self.critic_local(states, actions_pred).mean()\n",
    "        # Minimize the loss\n",
    "        self.actor_optimizer.zero_grad()\n",
    "        actor_loss.backward()\n",
    "        self.actor_optimizer.step()\n",
    "\n",
    "        # ********************* TARGET NETWORKS UPDATE *******************\n",
    "        self.soft_update(self.critic_local, self.critic_target, tau)\n",
    "        self.soft_update(self.actor_local, self.actor_target, tau)                     \n",
    "\n",
    "    def soft_update(self, local_model, target_model, tau):\n",
    "        '''\n",
    "        Soft update model parameters.\n",
    "        theta_target = tau*theta_local + (1 - tau)*theta_target\n",
    "        Weighted average. Smaller tau means more of the updated target model is\n",
    "        weighted towards the current target model.\n",
    "            \n",
    "        local_model : PyTorch model (weights will be copied from)\n",
    "        target_model: PyTorch model (weights will be copied to)\n",
    "        tau (float) : interpolation parameter \n",
    "        '''\n",
    "        for target_param, local_param in zip(target_model.parameters(),\n",
    "                                             local_model.parameters()):\n",
    "            target_param.data.copy_(tau*local_param.data + \n",
    "                                    (1.0-tau)*target_param.data)"
   ]
  },
  {
   "cell_type": "markdown",
   "metadata": {},
   "source": [
    "### Ornstein-Uhlenbeck process"
   ]
  },
  {
   "cell_type": "code",
   "execution_count": 13,
   "metadata": {},
   "outputs": [],
   "source": [
    "class OUNoise:\n",
    "\n",
    "    def __init__(self, size, seed, mu=0., theta=0.15, sigma=0.2):\n",
    "        '''Initialize parameters and noise process'''\n",
    "        self.mu = mu * np.ones(size)\n",
    "        self.theta = theta\n",
    "        self.sigma = sigma\n",
    "        self.size = size\n",
    "        self.seed = random.seed(seed)\n",
    "        self.reset()\n",
    "\n",
    "    def reset(self):\n",
    "        '''Reset the internal state (= noise) to mean (mu)'''\n",
    "        self.state = copy.copy(self.mu)\n",
    "\n",
    "    def sample(self):\n",
    "        '''Update internal state and return it as a noise sample'''\n",
    "        x = self.state\n",
    "        dx = (self.theta * (self.mu - x) + \n",
    "              self.sigma * np.random.standard_normal(self.size))\n",
    "\n",
    "        self.state = x + dx\n",
    "        return self.state"
   ]
  },
  {
   "cell_type": "markdown",
   "metadata": {},
   "source": [
    "## DDPG (Deep Deterministic Policy Gradients)\n",
    "\n",
    "Loop through each episode:\n",
    "```\n",
    "- get an action\n",
    "- send the action to the environment\n",
    "- get the next state\n",
    "- get the reward\n",
    "- add the state, action, reward, and next state to the experience replay buffer\n",
    "- every # time steps in the environment,\n",
    "  randomly sample the experience replay buffer and perform # learning steps\n",
    "- updating the critic network for each learning step\n",
    "- updating the actor network for each learning step\n",
    "- add the reward to the score\n",
    "- update the state to the next state and loop back to step 1\n",
    "```"
   ]
  },
  {
   "cell_type": "code",
   "execution_count": 14,
   "metadata": {},
   "outputs": [],
   "source": [
    "def ddpg(agent, prefix, n_episodes=2000, max_t=1500, \n",
    "         gamma_initial = 0.9, gamma_final = 0.99, gamma_rate = 0.002,\n",
    "         tau_initial = 0.02, tau_final = 0.001, tau_rate = 0.001,\n",
    "         noise_factor = 1.0):\n",
    "    '''\n",
    "    Deep Deterministic Policy Gradients\n",
    "    \n",
    "    PARAMETERS:\n",
    "    agent (object)       : the learning agent\n",
    "    prefix (string)      : a prefix string for naming all of the checkpoints\n",
    "                           of the actor and critic neural networks that are saved\n",
    "    n_episodes (int)     : maximum number of training episodes\n",
    "    max_t (int)          : maximum number of timesteps per episode\n",
    "    gamma_initial (float): initial gamma discount factor (0 to 1);\n",
    "                              higher values favor long term over current rewards\n",
    "    gamma_final (float)  : final gamma discount factor (0 to 1)\n",
    "    gammma_rate (float)  : a rate (0 to 1) for increasing gamma\n",
    "    tau_initial (float)  : initial value for tau, the weighting factor\n",
    "                              for soft updating the neural networks\n",
    "    tau_final (float)    : final value of tau\n",
    "    tau_rate (float)     : rate (0 to 1) for increasing tau each episode\n",
    "    noise_factor         : the value for scaling the noise\n",
    "                           every episode to gradually decrease it\n",
    "    '''\n",
    "    \n",
    "    gamma = gamma_initial\n",
    "    gamma_scale = 1.0 - gamma_rate\n",
    "    \n",
    "    tau = tau_initial\n",
    "    tau_scale = 1.0 - tau_rate\n",
    "    \n",
    "    noise_scale = 1.0\n",
    "    scores_deque = deque(maxlen=100)\n",
    "    scores, avg_max_scores = [], []\n",
    "    for i_episode in trange(1, n_episodes+1):\n",
    "        \n",
    "        # Reset environment\n",
    "        env_info = env.reset(train_mode=True)[brain_name]\n",
    "        \n",
    "        # Get next state\n",
    "        state = env_info.vector_observations\n",
    "        \n",
    "        # state = env.reset()\n",
    "        agent.reset()\n",
    "\n",
    "        score = np.zeros(agent.num_agents)\n",
    "        \n",
    "        for t in range(max_t):\n",
    "            \n",
    "            # get action\n",
    "            action = agent.act(state, noise_scale)\n",
    "            # send action to environment\n",
    "            env_info = env.step(action)[brain_name]\n",
    "            # get next state\n",
    "            next_state = env_info.vector_observations\n",
    "            # get reward\n",
    "            reward = env_info.rewards\n",
    "            \n",
    "            # check if episode is finished\n",
    "            done = env_info.local_done\n",
    "            \n",
    "            agent.step(state, action, reward, next_state, done, gamma, tau)\n",
    "            score += reward  # update the score\n",
    "            state = next_state\n",
    "            \n",
    "            if np.any(done):\n",
    "                break # exit if episode is finished\n",
    "                \n",
    "        agent_max_score = np.max(score)\n",
    "        scores.append(agent_max_score)\n",
    "        scores_deque.append(agent_max_score)\n",
    "        avg_max_scores.append(np.mean(scores_deque))\n",
    "                \n",
    "        # Increase gamma discount factor. Limit to gamma_final.\n",
    "        gamma = gamma_final - gamma_scale * (gamma_final - gamma)\n",
    "        \n",
    "        tau = tau_final - tau_scale * (tau_final - tau)\n",
    "        \n",
    "        noise_scale *= noise_factor\n",
    "        \n",
    "        if i_episode % 100 == 0:\n",
    "            print('\\rEpisode {}\\tAverage Score: {:.5f}'.\\\n",
    "                format(i_episode, np.mean(scores_deque)))\n",
    "\n",
    "    # saved Model Weights\n",
    "    torch.save(agent.actor_local.state_dict() , prefix + '_actor.pth')\n",
    "    torch.save(agent.critic_local.state_dict(), prefix + '_critic.pth')\n",
    "    return scores, avg_max_scores"
   ]
  },
  {
   "cell_type": "markdown",
   "metadata": {},
   "source": [
    "## Train the Agent"
   ]
  },
  {
   "cell_type": "code",
   "execution_count": 15,
   "metadata": {},
   "outputs": [],
   "source": [
    "agent = Agent(state_size = state_size, action_size = action_size,\n",
    "              num_agents = num_agents, random_seed = 0, batch_size = 1024, \n",
    "              lr_actor = 0.001, lr_critic = 0.001,\n",
    "              noise_theta = 0.2, noise_sigma = 0.1, # noise_theta = 0.1, noise_sigma = 0.04\n",
    "              actor_fc1 = 128, actor_fc2 = 128,\n",
    "              critic_fc1 = 128, critic_fc2 = 128,\n",
    "              update_every = 20, num_updates = 5, buffer_size = int(2e6))"
   ]
  },
  {
   "cell_type": "markdown",
   "metadata": {},
   "source": [
    "### Learning parameters:\n",
    "```\n",
    "agent        : the agent\n",
    "prefix       : a prefix string for naming all of the checkpoints\n",
    "n_episodes   : maximum number of training episodes\n",
    "max_t        : maximum number of timesteps per episode\n",
    "gamma_initial: initial gamma discount factor (0 to 1)\n",
    "gamma_final  : final gamma discount factor (0 to 1)\n",
    "gammma_rate  : a rate (0 to 1) for increasing gamma\n",
    "tau_initial  : initial value for tau, the weighting factor\n",
    "               for soft updating the neural networks\n",
    "tau_final    : final value of tau\n",
    "tau_rate     : rate (0 to 1) for increasing tau each episode\n",
    "noise_factor : the value for scaling the noise (<=1)\n",
    "```"
   ]
  },
  {
   "cell_type": "code",
   "execution_count": 16,
   "metadata": {
    "scrolled": false
   },
   "outputs": [
    {
     "name": "stderr",
     "output_type": "stream",
     "text": [
      "  5%|▌         | 104/2000 [00:05<01:33, 20.36it/s]"
     ]
    },
    {
     "name": "stdout",
     "output_type": "stream",
     "text": [
      "\r",
      "Episode 100\tAverage Score: 0.01000\n"
     ]
    },
    {
     "name": "stderr",
     "output_type": "stream",
     "text": [
      " 10%|█         | 206/2000 [00:08<00:56, 31.67it/s]"
     ]
    },
    {
     "name": "stdout",
     "output_type": "stream",
     "text": [
      "\r",
      "Episode 200\tAverage Score: 0.00300\n"
     ]
    },
    {
     "name": "stderr",
     "output_type": "stream",
     "text": [
      " 15%|█▌        | 305/2000 [00:12<00:56, 29.75it/s]"
     ]
    },
    {
     "name": "stdout",
     "output_type": "stream",
     "text": [
      "\r",
      "Episode 300\tAverage Score: 0.00490\n"
     ]
    },
    {
     "name": "stderr",
     "output_type": "stream",
     "text": [
      " 20%|██        | 401/2000 [00:26<04:35,  5.80it/s]"
     ]
    },
    {
     "name": "stdout",
     "output_type": "stream",
     "text": [
      "\r",
      "Episode 400\tAverage Score: 0.00800\n"
     ]
    },
    {
     "name": "stderr",
     "output_type": "stream",
     "text": [
      " 25%|██▌       | 502/2000 [00:41<03:06,  8.02it/s]"
     ]
    },
    {
     "name": "stdout",
     "output_type": "stream",
     "text": [
      "\r",
      "Episode 500\tAverage Score: 0.00100\n"
     ]
    },
    {
     "name": "stderr",
     "output_type": "stream",
     "text": [
      " 30%|███       | 600/2000 [00:56<03:49,  6.11it/s]"
     ]
    },
    {
     "name": "stdout",
     "output_type": "stream",
     "text": [
      "\r",
      "Episode 600\tAverage Score: 0.00590\n"
     ]
    },
    {
     "name": "stderr",
     "output_type": "stream",
     "text": [
      " 35%|███▌      | 701/2000 [01:18<03:32,  6.12it/s]"
     ]
    },
    {
     "name": "stdout",
     "output_type": "stream",
     "text": [
      "\r",
      "Episode 700\tAverage Score: 0.03190\n"
     ]
    },
    {
     "name": "stderr",
     "output_type": "stream",
     "text": [
      " 40%|████      | 800/2000 [01:45<28:01,  1.40s/it]"
     ]
    },
    {
     "name": "stdout",
     "output_type": "stream",
     "text": [
      "\r",
      "Episode 800\tAverage Score: 0.04240\n"
     ]
    },
    {
     "name": "stderr",
     "output_type": "stream",
     "text": [
      " 45%|████▌     | 900/2000 [03:00<07:28,  2.46it/s]"
     ]
    },
    {
     "name": "stdout",
     "output_type": "stream",
     "text": [
      "\r",
      "Episode 900\tAverage Score: 0.16370\n"
     ]
    },
    {
     "name": "stderr",
     "output_type": "stream",
     "text": [
      " 50%|█████     | 1000/2000 [05:13<07:19,  2.28it/s] "
     ]
    },
    {
     "name": "stdout",
     "output_type": "stream",
     "text": [
      "\r",
      "Episode 1000\tAverage Score: 0.30680\n"
     ]
    },
    {
     "name": "stderr",
     "output_type": "stream",
     "text": [
      " 55%|█████▌    | 1100/2000 [06:04<09:18,  1.61it/s]"
     ]
    },
    {
     "name": "stdout",
     "output_type": "stream",
     "text": [
      "\r",
      "Episode 1100\tAverage Score: 0.12300\n"
     ]
    },
    {
     "name": "stderr",
     "output_type": "stream",
     "text": [
      " 60%|██████    | 1200/2000 [08:41<1:04:07,  4.81s/it]"
     ]
    },
    {
     "name": "stdout",
     "output_type": "stream",
     "text": [
      "\r",
      "Episode 1200\tAverage Score: 0.36150\n"
     ]
    },
    {
     "name": "stderr",
     "output_type": "stream",
     "text": [
      " 65%|██████▌   | 1300/2000 [17:10<30:40,  2.63s/it]  "
     ]
    },
    {
     "name": "stdout",
     "output_type": "stream",
     "text": [
      "\r",
      "Episode 1300\tAverage Score: 1.16140\n"
     ]
    },
    {
     "name": "stderr",
     "output_type": "stream",
     "text": [
      " 70%|███████   | 1400/2000 [29:22<1:04:59,  6.50s/it]"
     ]
    },
    {
     "name": "stdout",
     "output_type": "stream",
     "text": [
      "\r",
      "Episode 1400\tAverage Score: 1.22040\n"
     ]
    },
    {
     "name": "stderr",
     "output_type": "stream",
     "text": [
      " 75%|███████▌  | 1500/2000 [48:00<2:02:15, 14.67s/it]"
     ]
    },
    {
     "name": "stdout",
     "output_type": "stream",
     "text": [
      "\r",
      "Episode 1500\tAverage Score: 1.68640\n"
     ]
    },
    {
     "name": "stderr",
     "output_type": "stream",
     "text": [
      " 80%|████████  | 1600/2000 [1:12:11<1:22:48, 12.42s/it]"
     ]
    },
    {
     "name": "stdout",
     "output_type": "stream",
     "text": [
      "\r",
      "Episode 1600\tAverage Score: 1.87500\n"
     ]
    },
    {
     "name": "stderr",
     "output_type": "stream",
     "text": [
      " 85%|████████▌ | 1700/2000 [1:32:40<51:04, 10.21s/it]  "
     ]
    },
    {
     "name": "stdout",
     "output_type": "stream",
     "text": [
      "\r",
      "Episode 1700\tAverage Score: 1.57160\n"
     ]
    },
    {
     "name": "stderr",
     "output_type": "stream",
     "text": [
      " 90%|█████████ | 1800/2000 [1:57:01<34:26, 10.33s/it]  "
     ]
    },
    {
     "name": "stdout",
     "output_type": "stream",
     "text": [
      "\r",
      "Episode 1800\tAverage Score: 1.54310\n"
     ]
    },
    {
     "name": "stderr",
     "output_type": "stream",
     "text": [
      " 95%|█████████▌| 1900/2000 [2:21:27<35:45, 21.45s/it]  "
     ]
    },
    {
     "name": "stdout",
     "output_type": "stream",
     "text": [
      "\r",
      "Episode 1900\tAverage Score: 1.39640\n"
     ]
    },
    {
     "name": "stderr",
     "output_type": "stream",
     "text": [
      "100%|██████████| 2000/2000 [2:46:36<00:00,  5.00s/it]"
     ]
    },
    {
     "name": "stdout",
     "output_type": "stream",
     "text": [
      "\r",
      "Episode 2000\tAverage Score: 1.37800\n"
     ]
    },
    {
     "name": "stderr",
     "output_type": "stream",
     "text": [
      "\n"
     ]
    }
   ],
   "source": [
    "scores = ddpg(agent,\n",
    "              prefix = 'tennis',\n",
    "              n_episodes = 2000,\n",
    "              max_t = 10000,\n",
    "              gamma_initial = 0.95,\n",
    "              gamma_final = 0.99,\n",
    "              gamma_rate = 0.01,\n",
    "              tau_initial = 0.01,\n",
    "              tau_final = 0.001,\n",
    "              tau_rate = 0.001,\n",
    "              noise_factor = 0.9999)"
   ]
  },
  {
   "cell_type": "markdown",
   "metadata": {},
   "source": [
    "### Plot of Rewards\n",
    "The agent receives an average score of +0.5 (over 100 consecutive episodes, after taking the maximum over both agents)."
   ]
  },
  {
   "cell_type": "code",
   "execution_count": 17,
   "metadata": {
    "scrolled": false
   },
   "outputs": [
    {
     "data": {
      "image/png": "[encoded data removed]",
      "text/plain": [
       "<Figure size 432x288 with 1 Axes>"
      ]
     },
     "metadata": {
      "needs_background": "light"
     },
     "output_type": "display_data"
    }
   ],
   "source": [
    "# conda upgrade matplotlib\n",
    "# pip install --upgrade matplotlib\n",
    "# conda install matplotlib=2 # downgraded matplotlib to version 2\n",
    "# WARNING:matplotlib:Bad key text.latex.unicode\n",
    "%matplotlib inline\n",
    "import matplotlib.pyplot as plt\n",
    "\n",
    "fig = plt.figure()\n",
    "ax = fig.add_subplot(111)\n",
    "plt.plot(np.arange(1, len(scores[0])+1), scores[0])\n",
    "plt.plot(np.arange(1, len(scores[1])+1), scores[1], label='average score')\n",
    "plt.ylabel('Score')\n",
    "plt.xlabel('Episode #')\n",
    "plt.legend()\n",
    "plt.show()"
   ]
  },
  {
   "cell_type": "markdown",
   "metadata": {},
   "source": [
    "When finished, you can close the environment."
   ]
  },
  {
   "cell_type": "code",
   "execution_count": 19,
   "metadata": {},
   "outputs": [],
   "source": [
    "env.close()"
   ]
  },
  {
   "cell_type": "markdown",
   "metadata": {},
   "source": [
    "## Ideas for Future Work\n",
    "* Optimization of the existing code\n",
    "* Search for optimal hyperparameters (it is necessary to pay special attention to the values of theta and sigma, which maybe have a significant impact on the learning process)\n",
    "* Implementation of the other algorithms such as PPO, A3C and D4PG"
   ]
  }
 ],
 "metadata": {
  "kernelspec": {
   "display_name": "Python 3",
   "language": "python",
   "name": "python3"
  },
  "language_info": {
   "codemirror_mode": {
    "name": "ipython",
    "version": 3
   },
   "file_extension": ".py",
   "mimetype": "text/x-python",
   "name": "python",
   "nbconvert_exporter": "python",
   "pygments_lexer": "ipython3",
   "version": "3.8.5"
  }
 },
 "nbformat": 4,
 "nbformat_minor": 2
}
